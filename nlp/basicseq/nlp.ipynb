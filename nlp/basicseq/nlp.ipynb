{
 "cells": [
  {
   "cell_type": "code",
   "execution_count": 1,
   "id": "54fcf907-12ef-49df-920d-8f4e7f750bc1",
   "metadata": {
    "execution": {
     "iopub.execute_input": "2025-06-07T12:52:50.475667Z",
     "iopub.status.busy": "2025-06-07T12:52:50.475667Z",
     "iopub.status.idle": "2025-06-07T12:52:53.342396Z",
     "shell.execute_reply": "2025-06-07T12:52:53.341874Z",
     "shell.execute_reply.started": "2025-06-07T12:52:50.475667Z"
    }
   },
   "outputs": [],
   "source": [
    "import pandas as pd\n",
    "import numpy as np\n",
    "import matplotlib.pyplot as plt\n",
    "import re\n",
    "import contractions"
   ]
  },
  {
   "cell_type": "code",
   "execution_count": 2,
   "id": "12074c14-2854-42be-af73-b27b02b35e10",
   "metadata": {
    "execution": {
     "iopub.execute_input": "2025-06-07T12:52:59.216897Z",
     "iopub.status.busy": "2025-06-07T12:52:59.216897Z",
     "iopub.status.idle": "2025-06-07T12:53:14.580556Z",
     "shell.execute_reply": "2025-06-07T12:53:14.580051Z",
     "shell.execute_reply.started": "2025-06-07T12:52:59.216897Z"
    }
   },
   "outputs": [],
   "source": [
    "df = pd.read_csv(\"train.csv\", names=[\"rating\", \"title\", \"review\"])"
   ]
  },
  {
   "cell_type": "code",
   "execution_count": 3,
   "id": "6bd3b894-3394-4e72-b116-36b19eb381cf",
   "metadata": {
    "execution": {
     "iopub.execute_input": "2025-06-07T12:53:14.581566Z",
     "iopub.status.busy": "2025-06-07T12:53:14.581566Z",
     "iopub.status.idle": "2025-06-07T12:53:15.171535Z",
     "shell.execute_reply": "2025-06-07T12:53:15.171030Z",
     "shell.execute_reply.started": "2025-06-07T12:53:14.581566Z"
    }
   },
   "outputs": [
    {
     "data": {
      "text/plain": [
       "rating      0\n",
       "title     207\n",
       "review      0\n",
       "dtype: int64"
      ]
     },
     "execution_count": 3,
     "metadata": {},
     "output_type": "execute_result"
    }
   ],
   "source": [
    "df.isna().sum()"
   ]
  },
  {
   "cell_type": "code",
   "execution_count": 4,
   "id": "ee6905a6-9333-4112-abd6-becf5adb31d3",
   "metadata": {
    "execution": {
     "iopub.execute_input": "2025-06-07T12:53:15.172540Z",
     "iopub.status.busy": "2025-06-07T12:53:15.172540Z",
     "iopub.status.idle": "2025-06-07T12:53:15.512472Z",
     "shell.execute_reply": "2025-06-07T12:53:15.511464Z",
     "shell.execute_reply.started": "2025-06-07T12:53:15.172540Z"
    }
   },
   "outputs": [],
   "source": [
    "df[\"title\"] = df[\"title\"].fillna(\"\")"
   ]
  },
  {
   "cell_type": "code",
   "execution_count": 5,
   "id": "15c7dbc6-4895-4a6c-864d-8d388d4f876c",
   "metadata": {
    "execution": {
     "iopub.execute_input": "2025-06-07T12:53:15.513667Z",
     "iopub.status.busy": "2025-06-07T12:53:15.513667Z",
     "iopub.status.idle": "2025-06-07T12:53:16.603048Z",
     "shell.execute_reply": "2025-06-07T12:53:16.603048Z",
     "shell.execute_reply.started": "2025-06-07T12:53:15.513667Z"
    }
   },
   "outputs": [],
   "source": [
    "df[\"review_length\"] = df[\"review\"].apply(len)"
   ]
  },
  {
   "cell_type": "code",
   "execution_count": 7,
   "id": "3408dd4c-7228-44c5-917d-426390767b1e",
   "metadata": {
    "execution": {
     "iopub.execute_input": "2025-06-07T12:53:33.948742Z",
     "iopub.status.busy": "2025-06-07T12:53:33.948742Z",
     "iopub.status.idle": "2025-06-07T12:53:35.229846Z",
     "shell.execute_reply": "2025-06-07T12:53:35.229846Z",
     "shell.execute_reply.started": "2025-06-07T12:53:33.948742Z"
    }
   },
   "outputs": [
    {
     "name": "stderr",
     "output_type": "stream",
     "text": [
      "C:\\Users\\GEN1U5\\AppData\\Local\\Temp\\ipykernel_22008\\1151838371.py:9: FutureWarning: The default of observed=False is deprecated and will be changed to True in a future version of pandas. Pass observed=False to retain current behavior or observed=True to adopt the future default and silence this warning.\n",
      "  grouped = df.groupby(['rating', 'length_bin'])\n"
     ]
    }
   ],
   "source": [
    "bins = df['review_length'].quantile([0, 0.2, 0.4, 0.6, 0.8, 1.0]).to_numpy()\n",
    "bins[0] = 0\n",
    "bins[-1] += 1\n",
    "bins\n",
    "labels = np.linspace(0, 4, 5)\n",
    "df['length_bin'] = pd.cut(df['review_length'], bins=bins, labels=labels)\n",
    "\n",
    "# Stratified sampling: group by class and bin\n",
    "grouped = df.groupby(['rating', 'length_bin'])\n",
    "\n",
    "# Decide total size per class\n",
    "sample_size_per_class = 5000  # or whatever you want\n",
    "final_samples = []\n",
    "\n",
    "for label in df['rating'].unique():\n",
    "    group = df[df['rating'] == label]\n",
    "    bin_counts = group['length_bin'].value_counts(normalize=True)\n",
    "    \n",
    "    for bin_label, frac in bin_counts.items():\n",
    "        n = int(sample_size_per_class * frac)\n",
    "        subset = grouped.get_group((label, bin_label))\n",
    "        \n",
    "        if len(subset) < n:\n",
    "            n = len(subset)  # safeguard\n",
    "        sampled = subset.sample(n=n, random_state=42)\n",
    "        final_samples.append(sampled)\n",
    "\n",
    "# Combine\n",
    "sampled_df = pd.concat(final_samples).sample(frac=1, random_state=45).reset_index(drop=True)"
   ]
  },
  {
   "cell_type": "code",
   "execution_count": 8,
   "id": "128897c5-0e0f-4de1-a107-ff59808db3e5",
   "metadata": {
    "execution": {
     "iopub.execute_input": "2025-06-07T12:53:36.233709Z",
     "iopub.status.busy": "2025-06-07T12:53:36.233098Z",
     "iopub.status.idle": "2025-06-07T12:53:36.236558Z",
     "shell.execute_reply": "2025-06-07T12:53:36.236558Z",
     "shell.execute_reply.started": "2025-06-07T12:53:36.233709Z"
    }
   },
   "outputs": [],
   "source": [
    "df = sampled_df"
   ]
  },
  {
   "cell_type": "code",
   "execution_count": 9,
   "id": "4902c157-3764-451c-8449-9dd7fd60a546",
   "metadata": {
    "execution": {
     "iopub.execute_input": "2025-06-07T12:53:36.780012Z",
     "iopub.status.busy": "2025-06-07T12:53:36.779006Z",
     "iopub.status.idle": "2025-06-07T12:53:36.784018Z",
     "shell.execute_reply": "2025-06-07T12:53:36.783515Z",
     "shell.execute_reply.started": "2025-06-07T12:53:36.780012Z"
    }
   },
   "outputs": [],
   "source": [
    "def preprocess(title, review):\n",
    "    text = title + \" : \" + review\n",
    "    text = text.lower()\n",
    "    text = contractions.fix(text)\n",
    "    text = re.sub(r'&', r'and', text)\n",
    "    text = re.sub(r\"[^a-z0-9!?.,:' ]+\", \"\", text)\n",
    "    text = re.sub(r'([!?.,])\\1{1,}', r'\\1', text)\n",
    "    #separating punctuation from words for better tokenization later.\n",
    "    text = re.sub(r'([!?.,])', r' \\1 ', text)\n",
    "    text = re.sub(r'([ ])\\1{1,}', r'\\1', text)\n",
    "    return text"
   ]
  },
  {
   "cell_type": "code",
   "execution_count": 10,
   "id": "11a93182-3295-46d2-8765-4b58755213d8",
   "metadata": {
    "execution": {
     "iopub.execute_input": "2025-06-07T12:53:38.159713Z",
     "iopub.status.busy": "2025-06-07T12:53:38.159713Z",
     "iopub.status.idle": "2025-06-07T12:53:38.585914Z",
     "shell.execute_reply": "2025-06-07T12:53:38.585410Z",
     "shell.execute_reply.started": "2025-06-07T12:53:38.159713Z"
    }
   },
   "outputs": [],
   "source": [
    "df[\"text\"] = df.apply(lambda row: preprocess(row[\"title\"], row[\"review\"]), axis=1)"
   ]
  },
  {
   "cell_type": "code",
   "execution_count": 11,
   "id": "abcf90b6-1b39-44a6-841d-3d6bbc96a4b3",
   "metadata": {
    "execution": {
     "iopub.execute_input": "2025-06-07T12:53:40.368832Z",
     "iopub.status.busy": "2025-06-07T12:53:40.367832Z",
     "iopub.status.idle": "2025-06-07T12:53:40.374882Z",
     "shell.execute_reply": "2025-06-07T12:53:40.374379Z",
     "shell.execute_reply.started": "2025-06-07T12:53:40.368832Z"
    }
   },
   "outputs": [],
   "source": [
    "df.drop([\"title\", \"review\", \"review_length\", \"length_bin\"], inplace=True, axis=1)"
   ]
  },
  {
   "cell_type": "code",
   "execution_count": 12,
   "id": "66f5dc2a-b223-4abb-8b41-037492076108",
   "metadata": {
    "execution": {
     "iopub.execute_input": "2025-06-07T12:53:40.996212Z",
     "iopub.status.busy": "2025-06-07T12:53:40.996212Z",
     "iopub.status.idle": "2025-06-07T12:53:40.999702Z",
     "shell.execute_reply": "2025-06-07T12:53:40.999702Z",
     "shell.execute_reply.started": "2025-06-07T12:53:40.996212Z"
    }
   },
   "outputs": [],
   "source": [
    "df[\"rating\"] -= 1"
   ]
  },
  {
   "cell_type": "code",
   "execution_count": 13,
   "id": "a632746f-02f1-4208-92c6-cc991b6179d2",
   "metadata": {
    "execution": {
     "iopub.execute_input": "2025-06-07T12:53:42.824613Z",
     "iopub.status.busy": "2025-06-07T12:53:42.824613Z",
     "iopub.status.idle": "2025-06-07T12:53:50.111076Z",
     "shell.execute_reply": "2025-06-07T12:53:50.111076Z",
     "shell.execute_reply.started": "2025-06-07T12:53:42.824613Z"
    }
   },
   "outputs": [],
   "source": [
    "dim = 100\n",
    "embed_file = f\"glove.6B/glove.6B.{dim}d.txt\"\n",
    "embeds = {}\n",
    "vocab_map = {}\n",
    "\n",
    "#out of vocabulary vector\n",
    "embeds[0] = np.zeros(dim)\n",
    "\n",
    "#padding index vector\n",
    "embeds[1] = np.zeros(dim)\n",
    "\n",
    "with open(embed_file, \"r\", encoding='utf-8') as f:\n",
    "    i = 2\n",
    "    for l in f:\n",
    "        l_split = l.split()\n",
    "        word = l_split[0]\n",
    "        vector = np.asarray(l_split[1:], \"float32\")\n",
    "        vocab_map[word] = i\n",
    "        embeds[i] = vector\n",
    "        i += 1\n"
   ]
  },
  {
   "cell_type": "code",
   "execution_count": 14,
   "id": "364b2c50-177c-4544-8646-bb9b3daa2ded",
   "metadata": {
    "execution": {
     "iopub.execute_input": "2025-06-07T12:54:36.226974Z",
     "iopub.status.busy": "2025-06-07T12:54:36.225975Z",
     "iopub.status.idle": "2025-06-07T12:54:41.099946Z",
     "shell.execute_reply": "2025-06-07T12:54:41.099437Z",
     "shell.execute_reply.started": "2025-06-07T12:54:36.226974Z"
    }
   },
   "outputs": [],
   "source": [
    "import torch\n",
    "from torch import nn\n",
    "from torch.utils.data import DataLoader, TensorDataset\n",
    "from torchvision import datasets\n",
    "from torchvision.transforms import ToTensor"
   ]
  },
  {
   "cell_type": "code",
   "execution_count": 15,
   "id": "ac982e40-d2c6-4f7f-9418-4bfdd8be3894",
   "metadata": {
    "execution": {
     "iopub.execute_input": "2025-06-07T12:54:43.193333Z",
     "iopub.status.busy": "2025-06-07T12:54:43.193333Z",
     "iopub.status.idle": "2025-06-07T12:54:47.737208Z",
     "shell.execute_reply": "2025-06-07T12:54:47.736705Z",
     "shell.execute_reply.started": "2025-06-07T12:54:43.193333Z"
    }
   },
   "outputs": [],
   "source": [
    "embed_tensor = torch.tensor(np.array([torch.tensor(v, dtype=torch.float32) for v in embeds.values()]))"
   ]
  },
  {
   "cell_type": "code",
   "execution_count": 35,
   "id": "541c52bc-f0a6-4c3d-8eb9-cb2c9c1a3ed4",
   "metadata": {
    "execution": {
     "iopub.execute_input": "2025-06-07T13:22:23.523731Z",
     "iopub.status.busy": "2025-06-07T13:22:23.522720Z",
     "iopub.status.idle": "2025-06-07T13:22:24.232417Z",
     "shell.execute_reply": "2025-06-07T13:22:24.232417Z",
     "shell.execute_reply.started": "2025-06-07T13:22:23.523731Z"
    }
   },
   "outputs": [],
   "source": [
    "max_text_len = max(len(text.split()) for text in df[\"text\"])\n",
    "\n",
    "def pad_and_tokenize(text, pad_len):\n",
    "    pad_idx = 1\n",
    "    padded = pad_idx * np.ones(pad_len, dtype=int)\n",
    "    words = text.split()\n",
    "    for i in range(len(words)):\n",
    "        padded[i] = vocab_map.get(words[i], 0)\n",
    "    return padded\n",
    "        \n",
    "df[\"token_id\"] = df[\"text\"].apply(lambda word: torch.tensor(pad_and_tokenize(word, max_text_len)))\n"
   ]
  },
  {
   "cell_type": "code",
   "execution_count": 36,
   "id": "70ec02d7-b8ce-4bbd-a102-7f19cf67dca0",
   "metadata": {
    "execution": {
     "iopub.execute_input": "2025-06-07T13:22:24.793230Z",
     "iopub.status.busy": "2025-06-07T13:22:24.793230Z",
     "iopub.status.idle": "2025-06-07T13:22:24.812879Z",
     "shell.execute_reply": "2025-06-07T13:22:24.812879Z",
     "shell.execute_reply.started": "2025-06-07T13:22:24.793230Z"
    }
   },
   "outputs": [],
   "source": [
    "train_data = TensorDataset(torch.stack(df[\"token_id\"].to_list()), torch.from_numpy(df[\"rating\"].to_numpy(dtype=\"float32\")).reshape(-1, 1))\n",
    "training_loader = DataLoader(train_data, batch_size=54)"
   ]
  },
  {
   "cell_type": "markdown",
   "id": "db4161a5-a5f6-47ae-a131-023a09be1457",
   "metadata": {},
   "source": [
    "## LSTM"
   ]
  },
  {
   "cell_type": "code",
   "execution_count": 42,
   "id": "eca5dd34-a645-4d54-94fe-41e0f509e5ab",
   "metadata": {
    "execution": {
     "iopub.execute_input": "2025-06-07T13:48:30.791372Z",
     "iopub.status.busy": "2025-06-07T13:48:30.791372Z",
     "iopub.status.idle": "2025-06-07T13:48:30.798172Z",
     "shell.execute_reply": "2025-06-07T13:48:30.798172Z",
     "shell.execute_reply.started": "2025-06-07T13:48:30.791372Z"
    }
   },
   "outputs": [],
   "source": [
    "class SentimentNN(nn.Module):\n",
    "    def __init__(self, input_size, hidden_size, embed_tensor):\n",
    "        super(SentimentNN, self).__init__()\n",
    "        self.s_i = input_size\n",
    "        self.s_h = hidden_size\n",
    "        self.embed_layer = nn.Embedding.from_pretrained(embed_tensor, padding_idx=1)\n",
    "        self.lstm = nn.LSTM(self.s_i, self.s_h, batch_first=True)\n",
    "        self.dense = nn.Linear(self.s_h, 1)\n",
    "    \n",
    "    def forward(self, x):\n",
    "        vec = self.embed_layer(x)\n",
    "        output, (hn, cn) = self.lstm(vec)\n",
    "        last_hidden = output[:, -1, :]\n",
    "        logits = self.dense(last_hidden)\n",
    "        y_hat = torch.sigmoid(logits)\n",
    "        return y_hat\n",
    "\n",
    "def train(model, training_loader, lr, threshold=0.5):\n",
    "    device = torch.device(\"cuda\" if torch.cuda.is_available() else \"cpu\")\n",
    "    model.to(device)\n",
    "    model.train()\n",
    "\n",
    "    optimizer = torch.optim.Adam(model.parameters(), lr=lr)\n",
    "    loss_fn = nn.BCELoss()\n",
    "    \n",
    "    for X_batch, y_batch in training_loader:\n",
    "        X_batch.to(device)\n",
    "        y_batch.to(device)\n",
    "\n",
    "        y_hat = model(X_batch)\n",
    "        \n",
    "        loss = loss_fn(y_hat, y_batch)\n",
    "        loss.backward()\n",
    "        optimizer.step()"
   ]
  },
  {
   "cell_type": "code",
   "execution_count": 43,
   "id": "64a01b44-db4b-4a6b-9722-5c8a7a524020",
   "metadata": {
    "execution": {
     "iopub.execute_input": "2025-06-07T13:48:31.659511Z",
     "iopub.status.busy": "2025-06-07T13:48:31.659511Z",
     "iopub.status.idle": "2025-06-07T13:48:31.663770Z",
     "shell.execute_reply": "2025-06-07T13:48:31.663770Z",
     "shell.execute_reply.started": "2025-06-07T13:48:31.659511Z"
    }
   },
   "outputs": [],
   "source": [
    "lstm_sentiment = SentimentNN(dim, 128, embed_tensor)"
   ]
  },
  {
   "cell_type": "code",
   "execution_count": 44,
   "id": "2734f6b9-89ca-43fa-9114-621321db418c",
   "metadata": {
    "execution": {
     "iopub.execute_input": "2025-06-07T13:48:31.873031Z",
     "iopub.status.busy": "2025-06-07T13:48:31.872031Z",
     "iopub.status.idle": "2025-06-07T13:48:41.570828Z",
     "shell.execute_reply": "2025-06-07T13:48:41.570828Z",
     "shell.execute_reply.started": "2025-06-07T13:48:31.873031Z"
    }
   },
   "outputs": [],
   "source": [
    "train(lstm_sentiment, training_loader, 0.01)"
   ]
  },
  {
   "cell_type": "code",
   "execution_count": 130,
   "id": "a0f159fe-5ad2-4814-bcee-cccf5e4b575d",
   "metadata": {
    "execution": {
     "iopub.execute_input": "2025-06-07T11:44:28.192150Z",
     "iopub.status.busy": "2025-06-07T11:44:28.191153Z",
     "iopub.status.idle": "2025-06-07T11:44:28.211132Z",
     "shell.execute_reply": "2025-06-07T11:44:28.211132Z",
     "shell.execute_reply.started": "2025-06-07T11:44:28.192150Z"
    }
   },
   "outputs": [
    {
     "name": "stdout",
     "output_type": "stream",
     "text": [
      "torch.Size([54, 1056])\n",
      "torch.float32\n"
     ]
    }
   ],
   "source": [
    "embed_layer = nn.Embedding.from_pretrained(embed_tensor, padding_idx=1)\n",
    "for x, y in training_loader:\n",
    "    print(x.shape)\n",
    "    print(embed_layer(x).dtype)\n",
    "    break"
   ]
  },
  {
   "cell_type": "code",
   "execution_count": 92,
   "id": "6ed6aaaf-17f1-4b10-8167-d2e38f25f5b0",
   "metadata": {
    "execution": {
     "iopub.execute_input": "2025-06-07T11:15:41.926651Z",
     "iopub.status.busy": "2025-06-07T11:15:41.926651Z",
     "iopub.status.idle": "2025-06-07T11:15:41.930544Z",
     "shell.execute_reply": "2025-06-07T11:15:41.930544Z",
     "shell.execute_reply.started": "2025-06-07T11:15:41.926651Z"
    }
   },
   "outputs": [
    {
     "data": {
      "text/plain": [
       "torch.Size([400002, 100])"
      ]
     },
     "execution_count": 92,
     "metadata": {},
     "output_type": "execute_result"
    }
   ],
   "source": [
    "embed_tensor.shape"
   ]
  },
  {
   "cell_type": "code",
   "execution_count": 105,
   "id": "06c8dd4e-ce68-423f-a9a6-fe838bcfc71d",
   "metadata": {
    "execution": {
     "iopub.execute_input": "2025-06-07T11:28:27.281787Z",
     "iopub.status.busy": "2025-06-07T11:28:27.281787Z",
     "iopub.status.idle": "2025-06-07T11:28:27.286190Z",
     "shell.execute_reply": "2025-06-07T11:28:27.286190Z",
     "shell.execute_reply.started": "2025-06-07T11:28:27.281787Z"
    }
   },
   "outputs": [
    {
     "data": {
      "text/plain": [
       "torch.Size([4, 1, 5])"
      ]
     },
     "execution_count": 105,
     "metadata": {},
     "output_type": "execute_result"
    }
   ],
   "source": [
    "a = torch.rand((4,1,5))\n",
    "a.shape"
   ]
  },
  {
   "cell_type": "code",
   "execution_count": 114,
   "id": "15497e83-69d8-4cc0-b651-2060c0d5d642",
   "metadata": {
    "execution": {
     "iopub.execute_input": "2025-06-07T11:32:33.271666Z",
     "iopub.status.busy": "2025-06-07T11:32:33.271666Z",
     "iopub.status.idle": "2025-06-07T11:32:33.278874Z",
     "shell.execute_reply": "2025-06-07T11:32:33.278361Z",
     "shell.execute_reply.started": "2025-06-07T11:32:33.271666Z"
    }
   },
   "outputs": [
    {
     "data": {
      "text/plain": [
       "torch.Size([4, 5])"
      ]
     },
     "execution_count": 114,
     "metadata": {},
     "output_type": "execute_result"
    }
   ],
   "source": [
    "a[:, -1, :].shape"
   ]
  },
  {
   "cell_type": "code",
   "execution_count": 28,
   "id": "f44604e4-449c-405f-a7ca-30a6b8dd1aff",
   "metadata": {
    "execution": {
     "iopub.execute_input": "2025-06-07T12:58:29.594268Z",
     "iopub.status.busy": "2025-06-07T12:58:29.594268Z",
     "iopub.status.idle": "2025-06-07T12:58:29.599643Z",
     "shell.execute_reply": "2025-06-07T12:58:29.599643Z",
     "shell.execute_reply.started": "2025-06-07T12:58:29.594268Z"
    }
   },
   "outputs": [
    {
     "data": {
      "text/plain": [
       "array([1, 0])"
      ]
     },
     "execution_count": 28,
     "metadata": {},
     "output_type": "execute_result"
    }
   ],
   "source": [
    "\n",
    "df[\"rating\"].unique()"
   ]
  },
  {
   "cell_type": "code",
   "execution_count": 34,
   "id": "dc4b59f9-da77-4aab-bd9a-ddad27950ab7",
   "metadata": {
    "execution": {
     "iopub.execute_input": "2025-06-07T13:01:28.915642Z",
     "iopub.status.busy": "2025-06-07T13:01:28.915642Z",
     "iopub.status.idle": "2025-06-07T13:01:28.919677Z",
     "shell.execute_reply": "2025-06-07T13:01:28.919677Z",
     "shell.execute_reply.started": "2025-06-07T13:01:28.915642Z"
    }
   },
   "outputs": [
    {
     "name": "stdout",
     "output_type": "stream",
     "text": [
      "cpu\n"
     ]
    }
   ],
   "source": [
    "device = torch.device(\"cuda\" if torch.cuda.is_available() else \"cpu\")\n",
    "print(device)"
   ]
  },
  {
   "cell_type": "code",
   "execution_count": null,
   "id": "d4c0e9e0-6149-4632-9e28-210b1ca0a3ed",
   "metadata": {},
   "outputs": [],
   "source": []
  }
 ],
 "metadata": {
  "kernelspec": {
   "display_name": "Python 3 (ipykernel)",
   "language": "python",
   "name": "python3"
  },
  "language_info": {
   "codemirror_mode": {
    "name": "ipython",
    "version": 3
   },
   "file_extension": ".py",
   "mimetype": "text/x-python",
   "name": "python",
   "nbconvert_exporter": "python",
   "pygments_lexer": "ipython3",
   "version": "3.12.7"
  }
 },
 "nbformat": 4,
 "nbformat_minor": 5
}
