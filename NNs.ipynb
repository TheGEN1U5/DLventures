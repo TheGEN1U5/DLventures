{
 "cells": [
  {
   "cell_type": "code",
   "execution_count": null,
   "metadata": {
    "id": "Fk2t1WTKfmVV"
   },
   "outputs": [],
   "source": [
    "import pandas as pd\n",
    "import numpy as np\n",
    "import cupy as cp\n",
    "import random\n",
    "import time"
   ]
  },
  {
   "cell_type": "code",
   "execution_count": null,
   "metadata": {
    "id": "AN2kqOZhfuIR"
   },
   "outputs": [],
   "source": [
    "dataset = pd.read_csv(\"sample_data/mnist_train_small.csv\", header=None)"
   ]
  },
  {
   "cell_type": "code",
   "execution_count": null,
   "metadata": {
    "id": "iZZsVKI5pScx"
   },
   "outputs": [],
   "source": [
    "def sigmoid(x):\n",
    "    return 1 / (1 + np.exp(-x))\n",
    "def sigmoid_prime(x):\n",
    "    return sigmoid(x) * (1 - sigmoid(x))"
   ]
  },
  {
   "cell_type": "code",
   "execution_count": null,
   "metadata": {
    "id": "JSuQV9SMg6sv"
   },
   "outputs": [],
   "source": [
    "X = np.array(dataset.iloc[:, 1:]) / 255\n",
    "Y = np.array(dataset.iloc[:, 0])\n",
    "def get_batches(X, Y, batch_size):\n",
    "    for i in range(0, len(X), batch_size):\n",
    "        yield X[i:i+batch_size], Y[i:i+batch_size]"
   ]
  },
  {
   "cell_type": "code",
   "execution_count": null,
   "metadata": {
    "id": "vdbdhIhplGfI"
   },
   "outputs": [],
   "source": [
    "def predict(x, w, b, layers):\n",
    "    x = x.reshape(-1, 1)\n",
    "    for i in range(1, layers + 1):\n",
    "        z = np.dot(w[i], x) + b[i]\n",
    "        x = sigmoid(z)\n",
    "    return np.argmax(x)"
   ]
  },
  {
   "cell_type": "code",
   "execution_count": null,
   "metadata": {
    "id": "o0r0UFAHn-En"
   },
   "outputs": [],
   "source": [
    "def accuracy_test(w,b):\n",
    "    df_test = pd.read_csv(\"sample_data/mnist_test.csv\", header=None)\n",
    "    X_test = np.array(df_test.iloc[:, 1:]) / 255\n",
    "    Y_test = np.array(df_test.iloc[:, 0])\n",
    "    total = 0\n",
    "    correct = 0\n",
    "    for i in range(len(X_test)):\n",
    "        if predict(X[i], w, b, 2) == Y[i]:\n",
    "            correct += 1\n",
    "        total += 1\n",
    "    return correct/total*100\n"
   ]
  },
  {
   "cell_type": "code",
   "execution_count": null,
   "metadata": {
    "id": "baPvJlLSOesq"
   },
   "outputs": [],
   "source": [
    "def cost_computation(X, Y, w, b, layers):\n",
    "    costs = []\n",
    "    for x, y in zip(X,Y):\n",
    "        y_ = np.zeros(shape=[10, 1])\n",
    "        y_[y] = 1\n",
    "        x = x.reshape(-1, 1)\n",
    "        for i in range(1, layers + 1):\n",
    "            z = np.dot(w[i], x) + b[i]\n",
    "            x = sigmoid(z)\n",
    "        costs.append((x - y) ** 2)\n",
    "    return np.mean(costs)\n"
   ]
  },
  {
   "cell_type": "code",
   "execution_count": null,
   "metadata": {
    "id": "roKWt5W-qplF"
   },
   "outputs": [],
   "source": [
    "batch_size = 100\n",
    "layers = 2\n",
    "epochs = 25\n",
    "costs = np.zeros(epochs)\n",
    "accuracy = np.zeros(epochs)\n",
    "#to make weights and biases one indexed\n",
    "#xavier initializattion\n",
    "w = [None, np.random.randn(16, 784) * np.sqrt(1.0 / (784)),\n",
    "        np.random.randn(10, 16) * np.sqrt(1.0 / (16))]\n",
    "b = [None, np.random.rand(16, 1), np.random.rand(10, 1)]"
   ]
  },
  {
   "cell_type": "code",
   "execution_count": null,
   "metadata": {
    "colab": {
     "base_uri": "https://localhost:8080/",
     "height": 211
    },
    "id": "0JAFLR1eq2H_",
    "outputId": "de199ae3-9bb1-44c3-fda7-306bfd71ae4a"
   },
   "outputs": [
    {
     "ename": "KeyboardInterrupt",
     "evalue": "",
     "output_type": "error",
     "traceback": [
      "\u001b[0;31m---------------------------------------------------------------------------\u001b[0m",
      "\u001b[0;31mKeyboardInterrupt\u001b[0m                         Traceback (most recent call last)",
      "\u001b[0;32m<ipython-input-45-3d86a53de3a3>\u001b[0m in \u001b[0;36m<cell line: 0>\u001b[0;34m()\u001b[0m\n\u001b[1;32m     20\u001b[0m             \u001b[0;32mfor\u001b[0m \u001b[0ml\u001b[0m \u001b[0;32min\u001b[0m \u001b[0mrange\u001b[0m\u001b[0;34m(\u001b[0m\u001b[0mlayers\u001b[0m\u001b[0;34m,\u001b[0m \u001b[0;36m0\u001b[0m\u001b[0;34m,\u001b[0m \u001b[0;34m-\u001b[0m\u001b[0;36m1\u001b[0m\u001b[0;34m)\u001b[0m\u001b[0;34m:\u001b[0m\u001b[0;34m\u001b[0m\u001b[0;34m\u001b[0m\u001b[0m\n\u001b[1;32m     21\u001b[0m                 \u001b[0mdelta\u001b[0m \u001b[0;34m=\u001b[0m \u001b[0mprev_delcdela\u001b[0m \u001b[0;34m*\u001b[0m \u001b[0msigmoid_prime\u001b[0m\u001b[0;34m(\u001b[0m\u001b[0mz\u001b[0m\u001b[0;34m[\u001b[0m\u001b[0ml\u001b[0m\u001b[0;34m]\u001b[0m\u001b[0;34m)\u001b[0m\u001b[0;34m\u001b[0m\u001b[0;34m\u001b[0m\u001b[0m\n\u001b[0;32m---> 22\u001b[0;31m                 \u001b[0mw_pd\u001b[0m\u001b[0;34m.\u001b[0m\u001b[0mappend\u001b[0m\u001b[0;34m(\u001b[0m\u001b[0mnp\u001b[0m\u001b[0;34m.\u001b[0m\u001b[0mdot\u001b[0m\u001b[0;34m(\u001b[0m\u001b[0mdelta\u001b[0m\u001b[0;34m,\u001b[0m \u001b[0ma\u001b[0m\u001b[0;34m[\u001b[0m\u001b[0ml\u001b[0m \u001b[0;34m-\u001b[0m \u001b[0;36m1\u001b[0m\u001b[0;34m]\u001b[0m\u001b[0;34m.\u001b[0m\u001b[0mT\u001b[0m\u001b[0;34m)\u001b[0m\u001b[0;34m)\u001b[0m\u001b[0;34m\u001b[0m\u001b[0;34m\u001b[0m\u001b[0m\n\u001b[0m\u001b[1;32m     23\u001b[0m                 \u001b[0mb_pd\u001b[0m\u001b[0;34m.\u001b[0m\u001b[0mappend\u001b[0m\u001b[0;34m(\u001b[0m\u001b[0mdelta\u001b[0m\u001b[0;34m)\u001b[0m\u001b[0;34m\u001b[0m\u001b[0;34m\u001b[0m\u001b[0m\n\u001b[1;32m     24\u001b[0m                 \u001b[0mprev_delcdela\u001b[0m \u001b[0;34m=\u001b[0m \u001b[0mnp\u001b[0m\u001b[0;34m.\u001b[0m\u001b[0mdot\u001b[0m\u001b[0;34m(\u001b[0m\u001b[0mw\u001b[0m\u001b[0;34m[\u001b[0m\u001b[0ml\u001b[0m\u001b[0;34m]\u001b[0m\u001b[0;34m.\u001b[0m\u001b[0mT\u001b[0m\u001b[0;34m,\u001b[0m \u001b[0mdelta\u001b[0m\u001b[0;34m)\u001b[0m\u001b[0;34m\u001b[0m\u001b[0;34m\u001b[0m\u001b[0m\n",
      "\u001b[0;31mKeyboardInterrupt\u001b[0m: "
     ]
    }
   ],
   "source": [
    "for e in range(epochs):\n",
    "    for batch in get_batches(X, Y, batch_size):\n",
    "        w_pds = []\n",
    "        b_pds = []\n",
    "        for k in range(batch_size):\n",
    "            x = batch[0][k].reshape(-1, 1)\n",
    "            y = batch[1][k]\n",
    "            y_ = np.zeros(shape=[10, 1])\n",
    "            y_[y] = 1\n",
    "            z = [x]\n",
    "            a = [x]\n",
    "\n",
    "            for i in range(1, layers + 1):\n",
    "                z_new = np.dot(w[i], a[i - 1]) + b[i]\n",
    "                z.append(z_new)\n",
    "                a.append(sigmoid(z_new))\n",
    "            prev_delcdela = 2*(a[-1] - y_)\n",
    "            w_pd = []\n",
    "            b_pd = []\n",
    "            for l in range(layers, 0, -1):\n",
    "                delta = prev_delcdela * sigmoid_prime(z[l])\n",
    "                w_pd.append(np.dot(delta, a[l - 1].T))\n",
    "                b_pd.append(delta)\n",
    "                prev_delcdela = np.dot(w[l].T, delta)\n",
    "            w_pds.append(w_pd)\n",
    "            b_pds.append(b_pd)\n",
    "        delc_delw = []\n",
    "        delc_delb = []\n",
    "        for layer in range(layers):\n",
    "            sum = np.zeros_like(w_pds[0][layer])\n",
    "            for w_pd in w_pds:\n",
    "                sum += w_pd[layer]\n",
    "            delc_delw.append(sum / batch_size)\n",
    "            sum = np.zeros_like(b_pds[0][layer])\n",
    "            for b_pd in b_pds:\n",
    "                sum += b_pd[layer]\n",
    "            delc_delb.append(sum / batch_size)\n",
    "        delc_delw = [None] + delc_delw[::-1]\n",
    "        delc_delb = [None] + delc_delb[::-1]\n",
    "        #update w and b\n",
    "        eta = 0.00001\n",
    "        for i in range(1, layers + 1):\n",
    "            w[i] -= eta*delc_delw[i]\n",
    "            b[i] -= eta*delc_delb[i]\n",
    "    #computing accuracy\n",
    "    accuracy[e] = accuracy_test(w, b)\n",
    "    costs[e] = cost_computation(X, Y, w, b, layers)\n",
    "\n"
   ]
  },
  {
   "cell_type": "code",
   "execution_count": null,
   "metadata": {
    "colab": {
     "base_uri": "https://localhost:8080/",
     "height": 482
    },
    "id": "SmALT_yJowNM",
    "outputId": "962e4768-5b9d-4e61-d833-4527e64475ac"
   },
   "outputs": [
    {
     "name": "stdout",
     "output_type": "stream",
     "text": [
      "27.500000000000004\n"
     ]
    },
    {
     "data": {
      "image/png": "[encoded data removed]",
      "text/plain": [
       "<Figure size 640x480 with 2 Axes>"
      ]
     },
     "metadata": {},
     "output_type": "display_data"
    }
   ],
   "source": [
    "import matplotlib.pyplot as plt\n",
    "fig, ax1 = plt.subplots(2)\n",
    "ax1[0].plot(costs)\n",
    "ax1[0].set_ylabel(\"cost\")\n",
    "ax1[1].plot(accuracy)\n",
    "ax1[1].set_ylabel(\"accuracy\")\n",
    "ax1[1].set_xlabel(\"epochs\")\n",
    "fig.show()\n",
    "print(accuracy[-1])"
   ]
  },
  {
   "cell_type": "markdown",
   "metadata": {
    "id": "4CBQVAHixv15"
   },
   "source": [
    "# 86% accurate, not bad!"
   ]
  },
  {
   "cell_type": "code",
   "execution_count": null,
   "metadata": {
    "id": "qqQfcRCt2YEi"
   },
   "outputs": [],
   "source": [
    "df_test = pd.read_csv(\"sample_data/mnist_test.csv\", header=None)"
   ]
  },
  {
   "cell_type": "code",
   "execution_count": null,
   "metadata": {
    "colab": {
     "base_uri": "https://localhost:8080/",
     "height": 466
    },
    "id": "dWNItcYsoxyr",
    "outputId": "a918a222-5d87-4226-d642-3500e843a36d"
   },
   "outputs": [
    {
     "name": "stdout",
     "output_type": "stream",
     "text": [
      "prediction:-  7\n"
     ]
    },
    {
     "data": {
      "image/png": "[encoded data removed]",
      "text/plain": [
       "<Figure size 640x480 with 1 Axes>"
      ]
     },
     "metadata": {},
     "output_type": "display_data"
    }
   ],
   "source": [
    "fig, ax = plt.subplots(1)\n",
    "n = 9741\n",
    "ax.imshow(X_test[n].reshape(28, 28), cmap=\"gray\")\n",
    "ax.set_xlabel(Y_test[n])\n",
    "fig.show()\n",
    "print(\"prediction:- \", predict(X_test[n], w, b, 2))"
   ]
  },
  {
   "cell_type": "code",
   "execution_count": null,
   "metadata": {
    "id": "_9133n-fDofa"
   },
   "outputs": [],
   "source": [
    "df_train = pd.read_csv(\"sample_data/mnist_train_small.csv\")\n",
    "df_test = pd.read_csv(\"sample_data/mnist_test.csv\")\n",
    "\n",
    "# train_data is a list of tuples (x, y) where x is (784, 1) and y is (10, 1)\n",
    "train_data = []\n",
    "test_data = []\n",
    "for i in range(len(df_train)):\n",
    "    x = cp.array(df_train.iloc[i, 1:])\n",
    "    x = x.reshape(-1, 1)\n",
    "    y = df_train.iloc[i, 0]\n",
    "    y_ = cp.zeros(shape=[10, 1])\n",
    "    y_[y] = 1\n",
    "    train_data.append((x, y_))\n",
    "for i in range(len(df_test)):\n",
    "    x = cp.array(df_test.iloc[i, 1:])\n",
    "    x = x.reshape(-1, 1)\n",
    "    y = df_test.iloc[i, 0]\n",
    "    y_ = cp.zeros(shape=[10, 1])\n",
    "    y_[y] = 1\n",
    "    test_data.append((x, y_))\n",
    "\n",
    "\n"
   ]
  },
  {
   "cell_type": "code",
   "execution_count": null,
   "metadata": {
    "id": "5jAxH_lCOVG9"
   },
   "outputs": [],
   "source": [
    "df_train = pd.read_csv(\"sample_data/mnist_train_small.csv\")\n",
    "df_test = pd.read_csv(\"sample_data/mnist_test.csv\")\n",
    "\n",
    "# train_data is a list of tuples (x, y) where x is (784, 1) and y is (10, 1)\n",
    "train_data_np = []\n",
    "test_data_np = []\n",
    "for i in range(len(df_train)):\n",
    "    x = np.array(df_train.iloc[i, 1:])\n",
    "    x = x.reshape(-1, 1)\n",
    "    y = df_train.iloc[i, 0]\n",
    "    y_ = np.zeros(shape=[10, 1])\n",
    "    y_[y] = 1\n",
    "    train_data_np.append((x, y_))\n",
    "for i in range(len(df_test)):\n",
    "    x = np.array(df_test.iloc[i, 1:])\n",
    "    x = x.reshape(-1, 1)\n",
    "    y = df_test.iloc[i, 0]\n",
    "    y_ = np.zeros(shape=[10, 1])\n",
    "    y_[y] = 1\n",
    "    test_data_np.append((x, y_))\n",
    "\n",
    "\n"
   ]
  },
  {
   "cell_type": "code",
   "execution_count": null,
   "metadata": {
    "id": "oijeJIOtEl1-"
   },
   "outputs": [],
   "source": [
    "class Network:\n",
    "    def __init__(self, sizes):\n",
    "        self.num_layers = len(sizes) - 1\n",
    "        self.sizes = sizes\n",
    "        self.weights = [np.random.randn(n_out, n_in) * np.sqrt(2.0 / (n_in + n_out)) for n_in, n_out in zip(sizes[:-1], sizes[1:])]\n",
    "        self.biases = [np.random.randn(n, 1) for n in sizes[1:]]\n",
    "    def feedForward(self, x):\n",
    "        z = []\n",
    "        a = [x]\n",
    "        for weight, bias in zip(self.weights, self.biases):\n",
    "            z_new = np.dot(weight, a[-1]) + bias\n",
    "            z.append(z_new)\n",
    "            x = sigmoid(z_new)\n",
    "            a.append(x)\n",
    "        return (z, a)\n",
    "    def SGD(self, train_data, batch_size, epochs, eta, test_data=None):\n",
    "        # train_data = list of tuples\n",
    "        self.accuracies = np.zeros(epochs)\n",
    "        self.costs = np.zeros(epochs)\n",
    "        def get_batches(train_data, batch_size):\n",
    "            random.shuffle(train_data)\n",
    "            for i in range(0, len(train_data), batch_size):\n",
    "                yield train_data[i:i+batch_size]\n",
    "\n",
    "        for e in range(epochs):\n",
    "            for batch in get_batches(train_data, batch_size):\n",
    "                self.update_mini_batch(batch, eta)\n",
    "            if(test_data):\n",
    "                self.accuracies[e] = self.accuracy_test(test_data)\n",
    "                self.costs[e] = self.cost_computation(test_data)\n",
    "            print(f\"epoch {e} done\")\n",
    "\n",
    "    def update_mini_batch(self, batch, eta):\n",
    "        batch_size = len(batch)\n",
    "        delta_w = [np.zeros_like(w) for w in self.weights]\n",
    "        delta_b = [np.zeros_like(b) for b in self.biases]\n",
    "        for x, y in batch:\n",
    "            delta_w_sample, delta_b_sample = self.backprop(x, y)\n",
    "            delta_w = [dw_sum + sample for dw_sum, sample in zip(delta_w, delta_w_sample)]\n",
    "            delta_b = [db_sum + sample for db_sum, sample in zip(delta_b, delta_b_sample)]\n",
    "        delta_w = [dw / batch_size for dw in delta_w]\n",
    "        delta_b = [db / batch_size for db in delta_b]\n",
    "\n",
    "        self.weights = [weight - eta * dw for weight, dw in zip(self.weights, delta_w)]\n",
    "        self.biases = [bias - eta * db for bias, db in zip(self.biases, delta_b)]\n",
    "\n",
    "    def backprop(self, x, y):\n",
    "        z, a = self.feedForward(x)\n",
    "        delta_w_sample = [np.zeros_like(w) for w in self.weights]\n",
    "        delta_b_sample = [np.zeros_like(b) for b in self.biases]\n",
    "        delta = sigmoid_prime(z[-1]) * self.cost_derivative(a[-1], y)\n",
    "        for i in range(self.num_layers - 1, -1, -1):\n",
    "            delta_w_sample[i] = np.dot(delta, a[i].T)\n",
    "            delta_b_sample[i] = delta\n",
    "            if i > 0:\n",
    "                delta = np.dot(self.weights[i].T, delta) * sigmoid_prime(z[i - 1])\n",
    "        return (delta_w_sample, delta_b_sample)\n",
    "\n",
    "    def accuracy_test(self, test_data):\n",
    "        sum_ = 0\n",
    "        for x, y in test_data:\n",
    "            a = self.feedForward(x)[1][-1]\n",
    "            if np.argmax(a) == np.argmax(y):\n",
    "                sum_ += 1\n",
    "        return sum_ / len(test_data)\n",
    "\n",
    "\n",
    "    def cost_computation(self, test_data):\n",
    "        costs = [self.cost(self.feedForward(x)[1][-1], y) for x, y in test_data]\n",
    "        return np.mean(costs)\n",
    "\n",
    "    def cost_derivative(self, a, y):\n",
    "        return 2 * (a - y)\n",
    "\n",
    "    def cost(self, a, y):\n",
    "        return (a - y) ** 2"
   ]
  },
  {
   "cell_type": "code",
   "execution_count": null,
   "metadata": {
    "id": "Tde6s3EjO1AN"
   },
   "outputs": [],
   "source": [
    "neural_net = Network([784, 128, 64, 10])\n",
    "neural_net.SGD(train_data_np, 100, 40, 0.225, test_data=test_data_np)"
   ]
  },
  {
   "cell_type": "code",
   "execution_count": null,
   "metadata": {
    "colab": {
     "base_uri": "https://localhost:8080/",
     "height": 466
    },
    "id": "9Hrj9xBwPayf",
    "outputId": "79eae118-5ce5-430a-d9bc-c4209e432711"
   },
   "outputs": [
    {
     "name": "stdout",
     "output_type": "stream",
     "text": [
      "91.55915591559156\n"
     ]
    },
    {
     "data": {
      "image/png": "[encoded data removed]",
      "text/plain": [
       "<Figure size 640x480 with 2 Axes>"
      ]
     },
     "metadata": {},
     "output_type": "display_data"
    }
   ],
   "source": [
    "import matplotlib.pyplot as plt\n",
    "fig, ax1 = plt.subplots(2)\n",
    "ax1[0].plot(neural_net.costs)\n",
    "ax1[0].set_ylabel(\"cost\")\n",
    "ax1[1].plot(neural_net.accuracies*100)\n",
    "ax1[1].set_ylabel(\"accuracy\")\n",
    "ax1[1].set_xlabel(\"epochs\")\n",
    "fig.show()\n",
    "print(neural_net.accuracies[-1]*100)"
   ]
  },
  {
   "cell_type": "markdown",
   "metadata": {
    "id": "CUtMIW7iK_3x"
   },
   "source": [
    "### ig that's as far as we can go\n",
    "# 91.56%"
   ]
  },
  {
   "cell_type": "code",
   "execution_count": null,
   "metadata": {
    "colab": {
     "base_uri": "https://localhost:8080/",
     "height": 538
    },
    "id": "AgkF2E8ZLyiv",
    "outputId": "e0f9b97f-1f98-4924-a3d1-761e2fc10b68"
   },
   "outputs": [
    {
     "name": "stderr",
     "output_type": "stream",
     "text": [
      "<ipython-input-13-89c811dc9afc>:2: RuntimeWarning: overflow encountered in exp\n",
      "  return 1 / (1 + np.exp(-x))\n"
     ]
    },
    {
     "name": "stdout",
     "output_type": "stream",
     "text": [
      "3\n"
     ]
    },
    {
     "data": {
      "image/png": "[encoded data removed]",
      "text/plain": [
       "<Figure size 640x480 with 2 Axes>"
      ]
     },
     "metadata": {},
     "output_type": "display_data"
    }
   ],
   "source": [
    "fig, ax = plt.subplots(2)\n",
    "n = 9156\n",
    "dp = test_data_np[n]\n",
    "ax[0].imshow(dp[0].reshape(28, 28), cmap=\"gray\")\n",
    "ax[0].set_xlabel(np.argmax(dp[1]))\n",
    "fig.tight_layout()\n",
    "fig.show()\n",
    "\n",
    "result = neural_net.feedForward(dp[0])\n",
    "\n",
    "ax[1].imshow(result[1][-2].reshape(8,8), cmap=\"gray\")\n",
    "print(np.argmax(result[1][-1]))"
   ]
  },
  {
   "cell_type": "markdown",
   "metadata": {
    "id": "ZPudAUnpLy6H"
   },
   "source": [
    "# ."
   ]
  },
  {
   "cell_type": "code",
   "execution_count": null,
   "metadata": {
    "id": "5rIzq4VbWmfH"
   },
   "outputs": [],
   "source": [
    "class Network_ideal(object):\n",
    "\n",
    "    def __init__(self, sizes):\n",
    "        \"\"\"The list ``sizes`` contains the number of neurons in the\n",
    "        respective layers of the network.  For example, if the list\n",
    "        was [2, 3, 1] then it would be a three-layer network, with the\n",
    "        first layer containing 2 neurons, the second layer 3 neurons,\n",
    "        and the third layer 1 neuron.  The biases and weights for the\n",
    "        network are initialized randomly, using a Gaussian\n",
    "        distribution with mean 0, and variance 1.  Note that the first\n",
    "        layer is assumed to be an input layer, and by convention we\n",
    "        won't set any biases for those neurons, since biases are only\n",
    "        ever used in computing the outputs from later layers.\"\"\"\n",
    "        self.num_layers = len(sizes)\n",
    "        self.sizes = sizes\n",
    "        self.biases = [np.random.randn(y, 1) for y in sizes[1:]]\n",
    "        self.weights = [np.random.randn(y, x)\n",
    "                        for x, y in zip(sizes[:-1], sizes[1:])]\n",
    "\n",
    "    def feedforward(self, a):\n",
    "        \"\"\"Return the output of the network if ``a`` is input.\"\"\"\n",
    "        for b, w in zip(self.biases, self.weights):\n",
    "            a = sigmoid(np.dot(w, a)+b)\n",
    "        return a\n",
    "\n",
    "    def SGD(self, training_data, epochs, mini_batch_size, eta,\n",
    "            test_data=None):\n",
    "        \"\"\"Train the neural network using mini-batch stochastic\n",
    "        gradient descent.  The ``training_data`` is a list of tuples\n",
    "        ``(x, y)`` representing the training inputs and the desired\n",
    "        outputs.  The other non-optional parameters are\n",
    "        self-explanatory.  If ``test_data`` is provided then the\n",
    "        network will be evaluated against the test data after each\n",
    "        epoch, and partial progress printed out.  This is useful for\n",
    "        tracking progress, but slows things down substantially.\"\"\"\n",
    "        if test_data: n_test = len(test_data)\n",
    "        n = len(training_data)\n",
    "        for j in range(epochs):\n",
    "            time1 = time.time()\n",
    "            random.shuffle(training_data)\n",
    "            mini_batches = [\n",
    "                training_data[k:k+mini_batch_size]\n",
    "                for k in range(0, n, mini_batch_size)]\n",
    "            for mini_batch in mini_batches:\n",
    "                self.update_mini_batch(mini_batch, eta)\n",
    "            time2 = time.time()\n",
    "            if test_data:\n",
    "                print(\"Epoch {0}: {1} / {2}, took {3:.2f} seconds\".format(\n",
    "                    j, self.evaluate(test_data), n_test, time2-time1))\n",
    "            else:\n",
    "                print(\"Epoch {0} complete in {1:.2f} seconds\".format(j, time2-time1))\n",
    "\n",
    "    def update_mini_batch(self, mini_batch, eta):\n",
    "        \"\"\"Update the network's weights and biases by applying\n",
    "        gradient descent using backpropagation to a single mini batch.\n",
    "        The ``mini_batch`` is a list of tuples ``(x, y)``, and ``eta``\n",
    "        is the learning rate.\"\"\"\n",
    "        nabla_b = [np.zeros(b.shape) for b in self.biases]\n",
    "        nabla_w = [np.zeros(w.shape) for w in self.weights]\n",
    "        for x, y in mini_batch:\n",
    "            delta_nabla_b, delta_nabla_w = self.backprop(x, y)\n",
    "            nabla_b = [nb+dnb for nb, dnb in zip(nabla_b, delta_nabla_b)]\n",
    "            nabla_w = [nw+dnw for nw, dnw in zip(nabla_w, delta_nabla_w)]\n",
    "        self.weights = [w-(eta/len(mini_batch))*nw\n",
    "                        for w, nw in zip(self.weights, nabla_w)]\n",
    "        self.biases = [b-(eta/len(mini_batch))*nb\n",
    "                       for b, nb in zip(self.biases, nabla_b)]\n",
    "\n",
    "    def backprop(self, x, y):\n",
    "        \"\"\"Return a tuple ``(nabla_b, nabla_w)`` representing the\n",
    "        gradient for the cost function C_x.  ``nabla_b`` and\n",
    "        ``nabla_w`` are layer-by-layer lists of numpy arrays, similar\n",
    "        to ``self.biases`` and ``self.weights``.\"\"\"\n",
    "        nabla_b = [np.zeros(b.shape) for b in self.biases]\n",
    "        nabla_w = [np.zeros(w.shape) for w in self.weights]\n",
    "        # feedforward\n",
    "        activation = x\n",
    "        activations = [x] # list to store all the activations, layer by layer\n",
    "        zs = [] # list to store all the z vectors, layer by layer\n",
    "        for b, w in zip(self.biases, self.weights):\n",
    "            z = np.dot(w, activation)+b\n",
    "            zs.append(z)\n",
    "            activation = sigmoid(z)\n",
    "            activations.append(activation)\n",
    "        # backward pass\n",
    "        delta = self.cost_derivative(activations[-1], y) * \\\n",
    "            sigmoid_prime(zs[-1])\n",
    "        nabla_b[-1] = delta\n",
    "        nabla_w[-1] = np.dot(delta, activations[-2].transpose())\n",
    "        # Note that the variable l in the loop below is used a little\n",
    "        # differently to the notation in Chapter 2 of the book.  Here,\n",
    "        # l = 1 means the last layer of neurons, l = 2 is the\n",
    "        # second-last layer, and so on.  It's a renumbering of the\n",
    "        # scheme in the book, used here to take advantage of the fact\n",
    "        # that Python can use negative indices in lists.\n",
    "        for l in range(2, self.num_layers):\n",
    "            z = zs[-l]\n",
    "            sp = sigmoid_prime(z)\n",
    "            delta = np.dot(self.weights[-l+1].transpose(), delta) * sp\n",
    "            nabla_b[-l] = delta\n",
    "            nabla_w[-l] = np.dot(delta, activations[-l-1].transpose())\n",
    "        return (nabla_b, nabla_w)\n",
    "\n",
    "    def evaluate(self, test_data):\n",
    "        \"\"\"Return the number of test inputs for which the neural\n",
    "        network outputs the correct result. Note that the neural\n",
    "        network's output is assumed to be the index of whichever\n",
    "        neuron in the final layer has the highest activation.\"\"\"\n",
    "        test_results = [(np.argmax(self.feedforward(x)), np.argmax(y))\n",
    "                        for (x, y) in test_data]\n",
    "        return sum(int(x == y) for (x, y) in test_results)\n",
    "\n",
    "    def cost_derivative(self, output_activations, y):\n",
    "        \"\"\"Return the vector of partial derivatives \\partial C_x /\n",
    "        \\partial a for the output activations.\"\"\"\n",
    "        return (output_activations-y)\n"
   ]
  },
  {
   "cell_type": "code",
   "execution_count": null,
   "metadata": {
    "id": "sYxx-MEk4Z1w"
   },
   "outputs": [],
   "source": [
    "nn = Network_ideal([784, 16, 10])"
   ]
  },
  {
   "cell_type": "code",
   "execution_count": null,
   "metadata": {
    "colab": {
     "base_uri": "https://localhost:8080/"
    },
    "id": "-zQVhmxH4rqo",
    "outputId": "8a825e8b-a509-481a-8502-a614a6f87960"
   },
   "outputs": [
    {
     "name": "stderr",
     "output_type": "stream",
     "text": [
      "<ipython-input-2-89c811dc9afc>:2: RuntimeWarning: overflow encountered in exp\n",
      "  return 1 / (1 + np.exp(-x))\n"
     ]
    },
    {
     "name": "stdout",
     "output_type": "stream",
     "text": [
      "Epoch 0: 1072 / 9999, took 2.28 seconds\n",
      "Epoch 1: 1049 / 9999, took 1.43 seconds\n",
      "Epoch 2: 1017 / 9999, took 1.41 seconds\n",
      "Epoch 3: 1014 / 9999, took 1.40 seconds\n",
      "Epoch 4: 1072 / 9999, took 1.43 seconds\n",
      "Epoch 5: 1141 / 9999, took 1.43 seconds\n",
      "Epoch 6: 1164 / 9999, took 1.41 seconds\n",
      "Epoch 7: 1170 / 9999, took 2.33 seconds\n",
      "Epoch 8: 1177 / 9999, took 1.40 seconds\n",
      "Epoch 9: 1218 / 9999, took 1.39 seconds\n"
     ]
    }
   ],
   "source": [
    "nn.SGD(train_data_np, 10, 1000, 0.1, test_data=test_data_np)"
   ]
  },
  {
   "cell_type": "code",
   "execution_count": null,
   "metadata": {
    "colab": {
     "base_uri": "https://localhost:8080/",
     "height": 141
    },
    "id": "e8H2Kzp84_o_",
    "outputId": "e344154e-2531-42bf-bcab-e681d0cda5d7"
   },
   "outputs": [
    {
     "ename": "AttributeError",
     "evalue": "'Network_ideal' object has no attribute 'accuracy'",
     "output_type": "error",
     "traceback": [
      "\u001b[0;31m---------------------------------------------------------------------------\u001b[0m",
      "\u001b[0;31mAttributeError\u001b[0m                            Traceback (most recent call last)",
      "\u001b[0;32m<ipython-input-71-f126ff13a809>\u001b[0m in \u001b[0;36m<cell line: 0>\u001b[0;34m()\u001b[0m\n\u001b[0;32m----> 1\u001b[0;31m \u001b[0mnn\u001b[0m\u001b[0;34m.\u001b[0m\u001b[0maccuracy\u001b[0m\u001b[0;34m\u001b[0m\u001b[0;34m\u001b[0m\u001b[0m\n\u001b[0m",
      "\u001b[0;31mAttributeError\u001b[0m: 'Network_ideal' object has no attribute 'accuracy'"
     ]
    }
   ],
   "source": [
    "neural_net.accuracies"
   ]
  },
  {
   "cell_type": "code",
   "execution_count": null,
   "metadata": {
    "id": "S1YMMprf73we"
   },
   "outputs": [],
   "source": [
    "class Network_gpu:\n",
    "    def __init__(self, sizes):\n",
    "        self.num_layers = len(sizes) - 1\n",
    "        self.sizes = sizes\n",
    "        self.weights = [cp.random.randn(n_out, n_in) * cp.sqrt(2.0 / (n_in + n_out)) for n_in, n_out in zip(sizes[:-1], sizes[1:])]\n",
    "        self.biases = [cp.random.randn(n, 1) for n in sizes[1:]]\n",
    "    def feedForward(self, x):\n",
    "        z = []\n",
    "        a = [x]\n",
    "        for weight, bias in zip(self.weights, self.biases):\n",
    "            # print(weight.shape, a[-1].shape, bias.shape)\n",
    "            z_new = cp.dot(weight, a[-1]) + bias\n",
    "            z.append(z_new)\n",
    "            x = sigmoid(z_new)\n",
    "            a.append(x)\n",
    "        return (z, a)\n",
    "    def SGD(self, train_data, batch_size, epochs, eta, test_data=None):\n",
    "        # train_data = list of tuples\n",
    "        self.accuracies = cp.zeros(epochs)\n",
    "        def get_batches(train_data, batch_size):\n",
    "            random.shuffle(train_data)\n",
    "            batches = []\n",
    "            for i in range(0, len(train_data), batch_size):\n",
    "                batch = train_data[i:i+batch_size]\n",
    "                x_batch = cp.hstack([x for x, y in batch])  # shape: (input_size, batch_size)\n",
    "                y_batch = cp.hstack([y for x, y in batch])\n",
    "                batches.append((x_batch, y_batch))\n",
    "            # print(batches[0][0].shape, batches[0][1].shape)\n",
    "            return batches\n",
    "\n",
    "\n",
    "        for e in range(epochs):\n",
    "            batches = get_batches(train_data, batch_size)\n",
    "            for batch in batches:\n",
    "                self.update_mini_batch(batch, eta)\n",
    "            if(test_data):\n",
    "                self.accuracies[e] = self.accuracy_test(test_data)\n",
    "            print(f\"epoch {e} done\")\n",
    "\n",
    "    def update_mini_batch(self, batch, eta):\n",
    "        x_batch, y_batch = batch\n",
    "        batch_size = x_batch.shape[1]\n",
    "\n",
    "        delta_w, delta_b = self.backprop(x_batch, y_batch)\n",
    "\n",
    "        self.weights = [w - eta * dw / batch_size for w, dw in zip(self.weights, delta_w)]\n",
    "        self.biases = [b - eta * db / batch_size for b, db in zip(self.biases, delta_b)]\n",
    "\n",
    "    def backprop(self, x, y):\n",
    "        batch_size = x.shape[1]\n",
    "        z, a = self.feedForward(x)\n",
    "        delta_w = [cp.zeros_like(w) for w in self.weights]\n",
    "        delta_b = [cp.zeros_like(b) for b in self.biases]\n",
    "\n",
    "        # Last layer error\n",
    "        delta = sigmoid_prime(z[-1]) * self.cost_derivative(a[-1], y)\n",
    "        # delta_w[-1] = cp.dot(delta, a[-2].T)\n",
    "        # delta_b[-1] = cp.sum(delta, axis=1, keepdims=True)\n",
    "\n",
    "        # Propagate backwards\n",
    "        # for i in range(self.num_layers - 2, -1, -1):\n",
    "        #     delta = cp.dot(self.weights[i+1].T, delta) * sigmoid_prime(z[i])\n",
    "        #     delta_w[i] = cp.dot(delta, a[i].T)\n",
    "        #     delta_b[i] = cp.sum(delta, axis=1, keepdims=True)\n",
    "\n",
    "        for i in range(self.num_layers - 1, -1, -1):\n",
    "            delta_w[i] = cp.dot(delta, a[i].T) / batch_size\n",
    "            delta_b[i] = cp.sum(delta, axis=1, keepdims=True) / batch_size\n",
    "            if i > 0:\n",
    "                delta = cp.dot(self.weights[i].T, delta) * sigmoid_prime(z[i - 1])\n",
    "\n",
    "        return (delta_w, delta_b)\n",
    "\n",
    "\n",
    "\n",
    "\n",
    "    def accuracy_test(self, test_data):\n",
    "        test_result = [(cp.argmax(self.feedForward(x)[1][-1]), cp.argmax(y)) for x, y in test_data]\n",
    "        return sum(int(x == y) for (x, y) in test_result) / len(test_data)\n",
    "\n",
    "    def cost_derivative(self, a, y):\n",
    "        return 2 * (a - y)"
   ]
  },
  {
   "cell_type": "code",
   "execution_count": null,
   "metadata": {
    "id": "RIdDE14FDmDz"
   },
   "outputs": [],
   "source": [
    "nn_gpu = Network_gpu([784, 16, 16, 10])"
   ]
  },
  {
   "cell_type": "code",
   "execution_count": null,
   "metadata": {
    "colab": {
     "base_uri": "https://localhost:8080/"
    },
    "id": "AgJR8E3zDpD8",
    "outputId": "01d1f18d-6af7-4966-8528-3c1853441549"
   },
   "outputs": [
    {
     "name": "stdout",
     "output_type": "stream",
     "text": [
      "epoch 0 done\n",
      "epoch 1 done\n",
      "epoch 2 done\n",
      "epoch 3 done\n",
      "epoch 4 done\n",
      "epoch 5 done\n",
      "epoch 6 done\n",
      "epoch 7 done\n",
      "epoch 8 done\n"
     ]
    }
   ],
   "source": [
    "nn_gpu.SGD(train_data, 100, 10, 0.01, test_data=test_data)"
   ]
  },
  {
   "cell_type": "code",
   "execution_count": null,
   "metadata": {
    "colab": {
     "base_uri": "https://localhost:8080/"
    },
    "id": "XKyE2r7oD1pn",
    "outputId": "543a724f-37d2-4cbc-e6c8-649a891ce120"
   },
   "outputs": [
    {
     "data": {
      "text/plain": [
       "19999"
      ]
     },
     "execution_count": 61,
     "metadata": {},
     "output_type": "execute_result"
    }
   ],
   "source": [
    "len(train_data)"
   ]
  },
  {
   "cell_type": "code",
   "execution_count": null,
   "metadata": {
    "colab": {
     "base_uri": "https://localhost:8080/"
    },
    "id": "5bCUAHf5N6Vu",
    "outputId": "54efc007-e667-4859-da83-ad7c63404cec"
   },
   "outputs": [
    {
     "data": {
      "text/plain": [
       "array([0.09580958, 0.09580958, 0.09580958, 0.09580958, 0.09580958,\n",
       "       0.09580958, 0.09580958, 0.09580958, 0.09580958, 0.09580958])"
      ]
     },
     "execution_count": 77,
     "metadata": {},
     "output_type": "execute_result"
    }
   ],
   "source": [
    "nn_gpu.accuracies"
   ]
  },
  {
   "cell_type": "code",
   "execution_count": null,
   "metadata": {
    "id": "b825VSaNPclE"
   },
   "outputs": [],
   "source": []
  },
  {
   "cell_type": "code",
   "execution_count": null,
   "metadata": {
    "id": "MiTvnF2FLwjX"
   },
   "outputs": [],
   "source": []
  }
 ],
 "metadata": {
  "colab": {
   "provenance": []
  },
  "kernelspec": {
   "display_name": "Python 3 (ipykernel)",
   "language": "python",
   "name": "python3"
  },
  "language_info": {
   "codemirror_mode": {
    "name": "ipython",
    "version": 3
   },
   "file_extension": ".py",
   "mimetype": "text/x-python",
   "name": "python",
   "nbconvert_exporter": "python",
   "pygments_lexer": "ipython3",
   "version": "3.12.7"
  }
 },
 "nbformat": 4,
 "nbformat_minor": 4
}
